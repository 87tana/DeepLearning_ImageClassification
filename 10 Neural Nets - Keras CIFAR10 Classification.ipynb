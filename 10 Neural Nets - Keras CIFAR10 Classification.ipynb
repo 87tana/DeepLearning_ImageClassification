{
 "cells": [
  {
   "cell_type": "markdown",
   "id": "824993e4",
   "metadata": {},
   "source": [
    "# Imports"
   ]
  },
  {
   "cell_type": "code",
   "execution_count": 1,
   "id": "7a9fdee9",
   "metadata": {},
   "outputs": [],
   "source": [
    "# same seed: any random numbers generated during the execution of the code will be reproducible\n",
    "from numpy.random import seed\n",
    "seed(888)\n",
    "from tensorflow import random\n",
    "random.set_seed(404)"
   ]
  },
  {
   "cell_type": "code",
   "execution_count": 84,
   "id": "5ed0cbd1",
   "metadata": {},
   "outputs": [],
   "source": [
    "import os \n",
    "import numpy as np\n",
    "import matplotlib.pyplot as plt\n",
    "%matplotlib inline\n",
    "import itertools\n",
    "\n",
    "import tensorflow as tf\n",
    "import keras\n",
    "\n",
    "\n",
    "from keras.models import Sequential\n",
    "from keras.layers import Dense, Activation, Dropout\n",
    "\n",
    "# image dataset were used cifar 10\n",
    "from keras.datasets import cifar10\n",
    "\n",
    "from IPython.display import display\n",
    "from tensorflow.keras.preprocessing.image import array_to_img\n",
    "from keras.callbacks import TensorBoard\n",
    "\n",
    "\n",
    "from time import strftime\n",
    "\n",
    "from sklearn.metrics import confusion_matrix"
   ]
  },
  {
   "cell_type": "markdown",
   "id": "7622a4ab",
   "metadata": {},
   "source": [
    "# Constants"
   ]
  },
  {
   "cell_type": "code",
   "execution_count": 79,
   "id": "c848de7a",
   "metadata": {},
   "outputs": [],
   "source": [
    "LOG_DIR = 'tensorboard_cifar_logs/'\n",
    "\n",
    "LABEL_NAMES = ['Plane', 'Car', 'Bird', 'Cat', 'Deer', 'Dog', 'Frog', 'Horse', 'Ship', 'Truck']\n",
    "\n",
    "IMAGE_WIDTH = 32\n",
    "IMAGE_HEIGHT = 32\n",
    "IMAGE_PIXELS = IMAGE_WIDTH * IMAGE_HEIGHT\n",
    "COLOR_CHANNELS = 3\n",
    "TOTAL_INPUTS = IMAGE_PIXELS * COLOR_CHANNELS\n",
    "NR_CLASSES = 10\n",
    "\n",
    "VALIDATAION_SIZE = 10000\n",
    "SMALL_TRAIN_SIZE  = 1000"
   ]
  },
  {
   "cell_type": "markdown",
   "id": "d5473650",
   "metadata": {},
   "source": [
    "# Get the Data"
   ]
  },
  {
   "cell_type": "code",
   "execution_count": 4,
   "id": "00799e29",
   "metadata": {},
   "outputs": [],
   "source": [
    "# CIFAR-10\n",
    "(x_train_all, y_train_all), (x_test, y_test) = cifar10.load_data()"
   ]
  },
  {
   "cell_type": "code",
   "execution_count": 5,
   "id": "bb691788",
   "metadata": {},
   "outputs": [
    {
     "data": {
      "text/plain": [
       "module"
      ]
     },
     "execution_count": 5,
     "metadata": {},
     "output_type": "execute_result"
    }
   ],
   "source": [
    "type(cifar10)"
   ]
  },
  {
   "cell_type": "code",
   "execution_count": 6,
   "id": "3f0e8c05",
   "metadata": {},
   "outputs": [
    {
     "data": {
      "text/plain": [
       "numpy.ndarray"
      ]
     },
     "execution_count": 6,
     "metadata": {},
     "output_type": "execute_result"
    }
   ],
   "source": [
    "type(x_train_all)"
   ]
  },
  {
   "cell_type": "markdown",
   "id": "5fc27124",
   "metadata": {},
   "source": [
    "# Explore the Data"
   ]
  },
  {
   "cell_type": "code",
   "execution_count": 7,
   "id": "03193a32",
   "metadata": {},
   "outputs": [
    {
     "data": {
      "text/plain": [
       "array([[[ 59,  62,  63],\n",
       "        [ 43,  46,  45],\n",
       "        [ 50,  48,  43],\n",
       "        ...,\n",
       "        [158, 132, 108],\n",
       "        [152, 125, 102],\n",
       "        [148, 124, 103]],\n",
       "\n",
       "       [[ 16,  20,  20],\n",
       "        [  0,   0,   0],\n",
       "        [ 18,   8,   0],\n",
       "        ...,\n",
       "        [123,  88,  55],\n",
       "        [119,  83,  50],\n",
       "        [122,  87,  57]],\n",
       "\n",
       "       [[ 25,  24,  21],\n",
       "        [ 16,   7,   0],\n",
       "        [ 49,  27,   8],\n",
       "        ...,\n",
       "        [118,  84,  50],\n",
       "        [120,  84,  50],\n",
       "        [109,  73,  42]],\n",
       "\n",
       "       ...,\n",
       "\n",
       "       [[208, 170,  96],\n",
       "        [201, 153,  34],\n",
       "        [198, 161,  26],\n",
       "        ...,\n",
       "        [160, 133,  70],\n",
       "        [ 56,  31,   7],\n",
       "        [ 53,  34,  20]],\n",
       "\n",
       "       [[180, 139,  96],\n",
       "        [173, 123,  42],\n",
       "        [186, 144,  30],\n",
       "        ...,\n",
       "        [184, 148,  94],\n",
       "        [ 97,  62,  34],\n",
       "        [ 83,  53,  34]],\n",
       "\n",
       "       [[177, 144, 116],\n",
       "        [168, 129,  94],\n",
       "        [179, 142,  87],\n",
       "        ...,\n",
       "        [216, 184, 140],\n",
       "        [151, 118,  84],\n",
       "        [123,  92,  72]]], dtype=uint8)"
      ]
     },
     "execution_count": 7,
     "metadata": {},
     "output_type": "execute_result"
    }
   ],
   "source": [
    "x_train_all[0]"
   ]
  },
  {
   "cell_type": "code",
   "execution_count": 8,
   "id": "b53625c1",
   "metadata": {},
   "outputs": [
    {
     "data": {
      "image/png": "[encoded data removed]",
      "text/plain": [
       "<PIL.Image.Image image mode=RGB size=32x32>"
      ]
     },
     "metadata": {},
     "output_type": "display_data"
    }
   ],
   "source": [
    "# in order to conver array to pic we use keras.preprocessing img_to_array\n",
    "pic = array_to_img(x_train_all[7])\n",
    "display(pic)"
   ]
  },
  {
   "cell_type": "code",
   "execution_count": 9,
   "id": "13cb8d96",
   "metadata": {},
   "outputs": [
    {
     "data": {
      "text/plain": [
       "(50000, 1)"
      ]
     },
     "execution_count": 9,
     "metadata": {},
     "output_type": "execute_result"
    }
   ],
   "source": [
    "# we should be able to verify that this is indeed a horse by looking at the image labels which are found in the Y values.\n",
    "y_train_all.shape\n",
    "# we got numpy array of 50,000 labels and it's two dim"
   ]
  },
  {
   "cell_type": "code",
   "execution_count": 10,
   "id": "e0723324",
   "metadata": {},
   "outputs": [
    {
     "data": {
      "text/plain": [
       "7"
      ]
     },
     "execution_count": 10,
     "metadata": {},
     "output_type": "execute_result"
    }
   ],
   "source": [
    "y_train_all[7][0]"
   ]
  },
  {
   "cell_type": "code",
   "execution_count": 11,
   "id": "0d33d1df",
   "metadata": {},
   "outputs": [
    {
     "data": {
      "text/plain": [
       "'Horse'"
      ]
     },
     "execution_count": 11,
     "metadata": {},
     "output_type": "execute_result"
    }
   ],
   "source": [
    "LABEL_NAMES[y_train_all[7][0]]"
   ]
  },
  {
   "cell_type": "code",
   "execution_count": 12,
   "id": "911707fb",
   "metadata": {},
   "outputs": [
    {
     "data": {
      "image/png": "[encoded data removed]",
      "text/plain": [
       "<Figure size 640x480 with 1 Axes>"
      ]
     },
     "metadata": {},
     "output_type": "display_data"
    }
   ],
   "source": [
    "# use matplotlib\n",
    "plt.imshow(x_train_all[4])\n",
    " #insert label\n",
    "plt.xlabel(LABEL_NAMES[y_train_all[4][0]],fontsize=15)\n",
    "plt.show()"
   ]
  },
  {
   "cell_type": "markdown",
   "id": "77497160",
   "metadata": {},
   "source": [
    "**Challenge:** Write a for loop to display the first 10 images from the ```x_train_all``` array in a row. Show the name of the label below the picture. Remove the ugly tick marks. *Hint* use matplotlib. "
   ]
  },
  {
   "cell_type": "code",
   "execution_count": 13,
   "id": "0e420af3",
   "metadata": {},
   "outputs": [
    {
     "data": {
      "image/png": "[encoded data removed]",
      "text/plain": [
       "<Figure size 1500x500 with 10 Axes>"
      ]
     },
     "metadata": {},
     "output_type": "display_data"
    }
   ],
   "source": [
    "# the first 10 images in the training dataset\n",
    "plt.figure(figsize=[15,5])\n",
    "\n",
    "for i in range (10):\n",
    "    plt.subplot(1,10,i+1)\n",
    "    \n",
    "    plt.xticks([]) # remove x,y ticks\n",
    "    plt.yticks([])\n",
    "    \n",
    "    plt.xlabel(LABEL_NAMES[y_train_all[i][0]],fontsize=14)\n",
    "    \n",
    "    plt.imshow(x_train_all[i])"
   ]
  },
  {
   "cell_type": "code",
   "execution_count": 14,
   "id": "9a0958d2",
   "metadata": {},
   "outputs": [
    {
     "data": {
      "text/plain": [
       "(32, 32, 3)"
      ]
     },
     "execution_count": 14,
     "metadata": {},
     "output_type": "execute_result"
    }
   ],
   "source": [
    "# how these images are formatted\n",
    "x_train_all[0].shape #frog"
   ]
  },
  {
   "cell_type": "code",
   "execution_count": 15,
   "id": "54ba260c",
   "metadata": {},
   "outputs": [
    {
     "data": {
      "text/plain": [
       "(50000, 32, 32, 3)"
      ]
     },
     "execution_count": 15,
     "metadata": {},
     "output_type": "execute_result"
    }
   ],
   "source": [
    "# 4 dimension 50000 enteries,  \n",
    "x_train_all.shape"
   ]
  },
  {
   "cell_type": "code",
   "execution_count": 16,
   "id": "a5d36aa0",
   "metadata": {},
   "outputs": [
    {
     "name": "stdout",
     "output_type": "stream",
     "text": [
      "images = 50000 \t| width = 32 \t| height = 32 \t| channels = 3\n"
     ]
    }
   ],
   "source": [
    "nr_images, x, y, c = x_train_all.shape\n",
    "print(f'images = {nr_images} \\t| width = {x} \\t| height = {y} \\t| channels = {c}')"
   ]
  },
  {
   "cell_type": "code",
   "execution_count": 17,
   "id": "2cded084",
   "metadata": {},
   "outputs": [
    {
     "data": {
      "text/plain": [
       "(10000, 32, 32, 3)"
      ]
     },
     "execution_count": 17,
     "metadata": {},
     "output_type": "execute_result"
    }
   ],
   "source": [
    "x_test.shape"
   ]
  },
  {
   "cell_type": "markdown",
   "id": "e1d844d8",
   "metadata": {},
   "source": [
    "# Preprocess Data"
   ]
  },
  {
   "cell_type": "code",
   "execution_count": 18,
   "id": "0c41434d",
   "metadata": {},
   "outputs": [
    {
     "data": {
      "text/plain": [
       "numpy.uint8"
      ]
     },
     "execution_count": 18,
     "metadata": {},
     "output_type": "execute_result"
    }
   ],
   "source": [
    "type(x_train_all[0][0][0][0])"
   ]
  },
  {
   "cell_type": "code",
   "execution_count": 19,
   "id": "cd5c4cb3",
   "metadata": {},
   "outputs": [],
   "source": [
    "# 255 is the largest value that I'm going to have because on the scale\n",
    "# divide by 255 -> to get smaller value (easier later on for calculating the leraning rate and lost function and adjust them)\n",
    "x_train_all, x_test = x_train_all / 255.0 , x_test/255.0"
   ]
  },
  {
   "cell_type": "code",
   "execution_count": 20,
   "id": "07509a9e",
   "metadata": {},
   "outputs": [
    {
     "data": {
      "text/plain": [
       "numpy.float64"
      ]
     },
     "execution_count": 20,
     "metadata": {},
     "output_type": "execute_result"
    }
   ],
   "source": [
    "type(x_train_all[0][0][0][0])"
   ]
  },
  {
   "cell_type": "code",
   "execution_count": 21,
   "id": "fd7ecb58",
   "metadata": {},
   "outputs": [],
   "source": [
    "# put them in a single row(single vector)\n",
    "# reshape (lenght, width*width*colorchannnels) i.e.,#32*32*3\n",
    "\n",
    "\n",
    "# train dataset\n",
    "x_train_all = x_train_all.reshape(x_train_all.shape[0],TOTAL_INPUTS )"
   ]
  },
  {
   "cell_type": "code",
   "execution_count": 22,
   "id": "6f8b6c21",
   "metadata": {},
   "outputs": [
    {
     "data": {
      "text/plain": [
       "(50000, 3072)"
      ]
     },
     "execution_count": 22,
     "metadata": {},
     "output_type": "execute_result"
    }
   ],
   "source": [
    "x_train_all.shape"
   ]
  },
  {
   "cell_type": "code",
   "execution_count": 23,
   "id": "37fdc5f8",
   "metadata": {},
   "outputs": [
    {
     "name": "stdout",
     "output_type": "stream",
     "text": [
      "Shape of x_test is (10000, 3072)\n"
     ]
    }
   ],
   "source": [
    "# test dataset\n",
    "\n",
    "x_test = x_test.reshape(x_test.shape[0],TOTAL_INPUTS) # x_test.shape[0] = len(x_test)\n",
    "print(f'Shape of x_test is {x_test.shape}')"
   ]
  },
  {
   "cell_type": "markdown",
   "id": "81caa901",
   "metadata": {},
   "source": [
    "### Create Validation Dataset"
   ]
  },
  {
   "cell_type": "code",
   "execution_count": 24,
   "id": "1e24d44d",
   "metadata": {},
   "outputs": [
    {
     "data": {
      "text/plain": [
       "(10000, 3072)"
      ]
     },
     "execution_count": 24,
     "metadata": {},
     "output_type": "execute_result"
    }
   ],
   "source": [
    "x_val = x_train_all[:VALIDATAION_SIZE]\n",
    "y_val = y_train_all[:VALIDATAION_SIZE] \n",
    "x_val.shape\n",
    "#y_val.shape"
   ]
  },
  {
   "cell_type": "markdown",
   "id": "56e7b5cb",
   "metadata": {},
   "source": [
    "**Challenge:** Create two numpy arrays ```x_train``` and ```y_train``` that have the shape (40000, 3072) and (40000, 1) respectively. They need to contain the last 40000 values from ```x_train_all``` and ```y_train_all``` respectively. "
   ]
  },
  {
   "cell_type": "code",
   "execution_count": 25,
   "id": "6526cb8b",
   "metadata": {},
   "outputs": [
    {
     "data": {
      "text/plain": [
       "(40000, 3072)"
      ]
     },
     "execution_count": 25,
     "metadata": {},
     "output_type": "execute_result"
    }
   ],
   "source": [
    "x_train = x_train_all[VALIDATAION_SIZE:] # gives us the last 40000 value from x\n",
    "x_train.shape"
   ]
  },
  {
   "cell_type": "code",
   "execution_count": 26,
   "id": "75cf5740",
   "metadata": {},
   "outputs": [
    {
     "data": {
      "text/plain": [
       "(40000, 1)"
      ]
     },
     "execution_count": 26,
     "metadata": {},
     "output_type": "execute_result"
    }
   ],
   "source": [
    "y_train = y_train_all[VALIDATAION_SIZE:]\n",
    "y_train.shape"
   ]
  },
  {
   "cell_type": "markdown",
   "id": "3af7f772",
   "metadata": {},
   "source": [
    "### Create a small dataset (for illustration)"
   ]
  },
  {
   "cell_type": "code",
   "execution_count": 27,
   "id": "2687a3c5",
   "metadata": {},
   "outputs": [],
   "source": [
    "x_train_xs = x_train[:SMALL_TRAIN_SIZE] # take the fisrt 1000 value\n",
    "y_train_xs = y_train[:SMALL_TRAIN_SIZE]"
   ]
  },
  {
   "cell_type": "markdown",
   "id": "eaa0eeca",
   "metadata": {},
   "source": [
    "# Define the Neural Network using Keras"
   ]
  },
  {
   "cell_type": "code",
   "execution_count": 36,
   "id": "5b57bb25",
   "metadata": {},
   "outputs": [],
   "source": [
    "from keras.models import Sequential\n",
    "from keras.layers import Dense, Activation\n",
    "\n",
    "\n",
    "# Define the model\n",
    "model_1 = Sequential([\n",
    "    Dense(units=128, input_dim=TOTAL_INPUTS, activation='relu',name ='m1_hidden1'),\n",
    "    Dense(units=64, activation = 'relu',name ='m1_hidden2'),\n",
    "    Dense(16,activation='relu',name ='m1_hidden3'),\n",
    "    Dense(10, activation='softmax',name ='m1_output')\n",
    "])\n",
    "\n",
    "# Compile the model\n",
    "# 3 arguments: optimizer, the loss function, which metrics to calculate for optimizer\n",
    "\n",
    "model_1.compile(optimizer='adam', \n",
    "                loss='sparse_categorical_crossentropy',\n",
    "                metrics=['accuracy']) "
   ]
  },
  {
   "cell_type": "code",
   "execution_count": 37,
   "id": "a130b6e0",
   "metadata": {},
   "outputs": [],
   "source": [
    "#drop out on the input layer\n",
    "model_2 = keras.Sequential()\n",
    "model_2.add(Dropout(0.2,seed = 42, input_shape=(TOTAL_INPUTS,)))\n",
    "model_2.add(Dense(128,activation = 'relu',name='m2_hidden1'))\n",
    "model_2.add(Dense(64,activation = 'relu',name='m2_hidden2'))\n",
    "model_2.add(Dense(16,activation = 'relu',name='m2_hidden3'))\n",
    "model_2.add(Dense(10,activation = 'softmax',name='m2_output'))\n",
    "\n",
    "model_2.compile(optimizer='adam', \n",
    "                loss='sparse_categorical_crossentropy',\n",
    "                metrics=['accuracy']) "
   ]
  },
  {
   "cell_type": "markdown",
   "id": "8b3ecba8",
   "metadata": {},
   "source": [
    "**Challenge:** Create a third model, ```model_3``` that has two dropout layers. The second dropout layer should be added after the first hidden layer and have a dropout rate of 25%. "
   ]
  },
  {
   "cell_type": "code",
   "execution_count": 38,
   "id": "1df5c32a",
   "metadata": {},
   "outputs": [],
   "source": [
    "# drop out on both the input and the first hidden layer\n",
    "model_3 = keras.Sequential()\n",
    "model_3.add(Dropout(0.2,seed = 42, input_shape=(TOTAL_INPUTS,)))\n",
    "model_3.add(Dense(128,activation = 'relu',name='m2_hidden1'))\n",
    "model_3.add(Dropout(0.25,seed = 42))\n",
    "model_3.add(Dense(64,activation = 'relu',name='m2_hidden2'))\n",
    "model_3.add(Dense(16,activation = 'relu',name='m2_hidden3'))\n",
    "model_3.add(Dense(10,activation = 'softmax',name='m2_output'))\n",
    "\n",
    "model_3.compile(optimizer='adam', \n",
    "                loss='sparse_categorical_crossentropy',\n",
    "                metrics=['accuracy']) "
   ]
  },
  {
   "cell_type": "code",
   "execution_count": null,
   "id": "84504fbc",
   "metadata": {},
   "outputs": [],
   "source": [
    "type(model_1)"
   ]
  },
  {
   "cell_type": "code",
   "execution_count": 31,
   "id": "e77cebc6",
   "metadata": {},
   "outputs": [
    {
     "name": "stdout",
     "output_type": "stream",
     "text": [
      "Model: \"sequential\"\n",
      "_________________________________________________________________\n",
      " Layer (type)                Output Shape              Param #   \n",
      "=================================================================\n",
      " m1_hidden1 (Dense)          (None, 128)               393344    \n",
      "                                                                 \n",
      " m1_hidden2 (Dense)          (None, 64)                8256      \n",
      "                                                                 \n",
      " m1_hidden3 (Dense)          (None, 16)                1040      \n",
      "                                                                 \n",
      " m1_output (Dense)           (None, 10)                170       \n",
      "                                                                 \n",
      "=================================================================\n",
      "Total params: 402,810\n",
      "Trainable params: 402,810\n",
      "Non-trainable params: 0\n",
      "_________________________________________________________________\n"
     ]
    }
   ],
   "source": [
    "model_1.summary()"
   ]
  },
  {
   "cell_type": "code",
   "execution_count": null,
   "id": "516be280",
   "metadata": {},
   "outputs": [],
   "source": [
    "32*32*3*128  # nr of connection weights"
   ]
  },
  {
   "cell_type": "code",
   "execution_count": null,
   "id": "2c9a231e",
   "metadata": {},
   "outputs": [],
   "source": [
    "393344-393216 # bias"
   ]
  },
  {
   "cell_type": "code",
   "execution_count": null,
   "id": "d3dbea5d",
   "metadata": {},
   "outputs": [],
   "source": [
    "32*32*3*128 +128 + (128*64 + 64) + (64*16+ 16) + (16*10 + 10)"
   ]
  },
  {
   "cell_type": "markdown",
   "id": "1bcadecb",
   "metadata": {},
   "source": [
    "# Tensorboard (Visualizing Learning)"
   ]
  },
  {
   "cell_type": "code",
   "execution_count": 32,
   "id": "e1c8a92d",
   "metadata": {},
   "outputs": [],
   "source": [
    "def get_tensorboard(model_name):\n",
    "\n",
    "    folder_name = f'{model_name} at {strftime(\"%H %M\")}'\n",
    "    #print(folder_name)\n",
    "    dir_paths = os.path.join(LOG_DIR, folder_name) # create directory and join with folder name\n",
    "\n",
    "    try:\n",
    "        os.makedirs(dir_paths)\n",
    "    except OSError as err:\n",
    "        print(err.strerror)\n",
    "    else: \n",
    "        print('Successfully Created directory')\n",
    "    \n",
    "    return TensorBoard(log_dir = dir_paths)"
   ]
  },
  {
   "cell_type": "code",
   "execution_count": null,
   "id": "e4b43984",
   "metadata": {},
   "outputs": [],
   "source": [
    "# https://keras.io/api/models/model_training_apis/#compile-method"
   ]
  },
  {
   "cell_type": "markdown",
   "id": "7d8be9bf",
   "metadata": {},
   "source": [
    "# Fit the Model on small data set"
   ]
  },
  {
   "cell_type": "code",
   "execution_count": 33,
   "id": "dfe30bb6",
   "metadata": {},
   "outputs": [],
   "source": [
    "samples_per_batch = 1000"
   ]
  },
  {
   "cell_type": "code",
   "execution_count": 34,
   "id": "2115e692",
   "metadata": {},
   "outputs": [
    {
     "name": "stdout",
     "output_type": "stream",
     "text": [
      "Successfully Created directory\n",
      "CPU times: total: 21.6 s\n",
      "Wall time: 24.6 s\n"
     ]
    },
    {
     "data": {
      "text/plain": [
       "<keras.callbacks.History at 0x2239882f280>"
      ]
     },
     "execution_count": 34,
     "metadata": {},
     "output_type": "execute_result"
    }
   ],
   "source": [
    "%%time\n",
    "nr_epochs = 150\n",
    "\n",
    "model_1.fit(x_train_xs,y_train_xs,batch_size = samples_per_batch, epochs =nr_epochs,  \n",
    "           callbacks=[get_tensorboard('Model 1')],verbose=0,validation_data=(x_val,y_val)) #we can use tensorboard as call back"
   ]
  },
  {
   "cell_type": "code",
   "execution_count": 35,
   "id": "4901bbd7",
   "metadata": {},
   "outputs": [
    {
     "name": "stdout",
     "output_type": "stream",
     "text": [
      "Successfully Created directory\n",
      "CPU times: total: 26.6 s\n",
      "Wall time: 25.6 s\n"
     ]
    },
    {
     "data": {
      "text/plain": [
       "<keras.callbacks.History at 0x22398f97370>"
      ]
     },
     "execution_count": 35,
     "metadata": {},
     "output_type": "execute_result"
    }
   ],
   "source": [
    "%%time\n",
    "nr_epochs = 150\n",
    "\n",
    "model_2.fit(x_train_xs,y_train_xs,batch_size = samples_per_batch, epochs =nr_epochs,  \n",
    "            callbacks=[get_tensorboard('Model 2')],verbose=0,validation_data=(x_val,y_val))"
   ]
  },
  {
   "cell_type": "markdown",
   "id": "ba77a445",
   "metadata": {},
   "source": [
    "# Fit The model on the large data set"
   ]
  },
  {
   "cell_type": "code",
   "execution_count": null,
   "id": "5d00c933",
   "metadata": {},
   "outputs": [],
   "source": [
    "# Recompile befor fitting"
   ]
  },
  {
   "cell_type": "code",
   "execution_count": 39,
   "id": "fcd9b026",
   "metadata": {},
   "outputs": [
    {
     "name": "stdout",
     "output_type": "stream",
     "text": [
      "Successfully Created directory\n",
      "CPU times: total: 5min 40s\n",
      "Wall time: 3min 30s\n"
     ]
    },
    {
     "data": {
      "text/plain": [
       "<keras.callbacks.History at 0x2239bba6aa0>"
      ]
     },
     "execution_count": 39,
     "metadata": {},
     "output_type": "execute_result"
    }
   ],
   "source": [
    "%%time\n",
    "nr_epochs = 100\n",
    "\n",
    "model_1.fit(x_train,y_train,batch_size = samples_per_batch, epochs =nr_epochs,  \n",
    "           callbacks=[get_tensorboard('Model 1 XL')],verbose=0,validation_data=(x_val,y_val)) "
   ]
  },
  {
   "cell_type": "code",
   "execution_count": 40,
   "id": "b69efe8f",
   "metadata": {},
   "outputs": [
    {
     "name": "stdout",
     "output_type": "stream",
     "text": [
      "Successfully Created directory\n",
      "CPU times: total: 28min 48s\n",
      "Wall time: 8min 16s\n"
     ]
    },
    {
     "data": {
      "text/plain": [
       "<keras.callbacks.History at 0x22398f97520>"
      ]
     },
     "execution_count": 40,
     "metadata": {},
     "output_type": "execute_result"
    }
   ],
   "source": [
    "%%time\n",
    "nr_epochs = 100\n",
    "\n",
    "model_2.fit(x_train,y_train,batch_size = samples_per_batch, epochs =nr_epochs,  \n",
    "           callbacks=[get_tensorboard('Model 2 XL')],verbose=0,validation_data=(x_val,y_val)) "
   ]
  },
  {
   "cell_type": "code",
   "execution_count": 41,
   "id": "0e31da0a",
   "metadata": {},
   "outputs": [
    {
     "name": "stdout",
     "output_type": "stream",
     "text": [
      "Successfully Created directory\n",
      "CPU times: total: 12min 55s\n",
      "Wall time: 5min 45s\n"
     ]
    },
    {
     "data": {
      "text/plain": [
       "<keras.callbacks.History at 0x2239dc56f20>"
      ]
     },
     "execution_count": 41,
     "metadata": {},
     "output_type": "execute_result"
    }
   ],
   "source": [
    "%%time\n",
    "nr_epochs = 100\n",
    "\n",
    "model_3.fit(x_train,y_train,batch_size = samples_per_batch, epochs =nr_epochs,  \n",
    "           callbacks=[get_tensorboard('Model 3 XL')],verbose=0,validation_data=(x_val,y_val)) "
   ]
  },
  {
   "cell_type": "markdown",
   "id": "70b86024",
   "metadata": {},
   "source": [
    "# Make Predictions on individual Images"
   ]
  },
  {
   "cell_type": "markdown",
   "id": "8ee38299",
   "metadata": {},
   "source": [
    "https://keras.io/api/models/model_training_apis/"
   ]
  },
  {
   "cell_type": "code",
   "execution_count": 42,
   "id": "5a47120f",
   "metadata": {},
   "outputs": [
    {
     "data": {
      "text/plain": [
       "(10000, 3072)"
      ]
     },
     "execution_count": 42,
     "metadata": {},
     "output_type": "execute_result"
    }
   ],
   "source": [
    "# predict a single image\n",
    "\n",
    "x_val.shape"
   ]
  },
  {
   "cell_type": "code",
   "execution_count": 44,
   "id": "e623c5d7",
   "metadata": {},
   "outputs": [
    {
     "data": {
      "text/plain": [
       "(3072,)"
      ]
     },
     "execution_count": 44,
     "metadata": {},
     "output_type": "execute_result"
    }
   ],
   "source": [
    "x_val[0].shape  #flattened, one dimensional array"
   ]
  },
  {
   "cell_type": "code",
   "execution_count": 46,
   "id": "6a16c93a",
   "metadata": {},
   "outputs": [
    {
     "data": {
      "text/plain": [
       "(1, 3072)"
      ]
     },
     "execution_count": 46,
     "metadata": {},
     "output_type": "execute_result"
    }
   ],
   "source": [
    "# we need to expand it, to fit in the predict method, because normally we expect more than one image\n",
    "\n",
    "test = np.expand_dims(x_val[0],axis=0)\n",
    "test.shape"
   ]
  },
  {
   "cell_type": "code",
   "execution_count": 50,
   "id": "fd9d0c61",
   "metadata": {},
   "outputs": [],
   "source": [
    "np.set_printoptions(precision=3)  #change the print option"
   ]
  },
  {
   "cell_type": "code",
   "execution_count": 51,
   "id": "6c5ee540",
   "metadata": {},
   "outputs": [
    {
     "name": "stdout",
     "output_type": "stream",
     "text": [
      "1/1 [==============================] - 0s 27ms/step\n"
     ]
    },
    {
     "data": {
      "text/plain": [
       "array([[3.120e-02, 3.241e-03, 5.046e-02, 1.444e-01, 1.886e-01, 8.301e-02,\n",
       "        4.783e-01, 1.976e-02, 2.326e-04, 7.898e-04]], dtype=float32)"
      ]
     },
     "execution_count": 51,
     "metadata": {},
     "output_type": "execute_result"
    }
   ],
   "source": [
    "model_2.predict(test) # individual array"
   ]
  },
  {
   "cell_type": "code",
   "execution_count": null,
   "id": "8682c875",
   "metadata": {},
   "outputs": [],
   "source": [
    "# why got probabilities= because has softmax in output layer for activation function"
   ]
  },
  {
   "cell_type": "markdown",
   "id": "8cb70bd6",
   "metadata": {},
   "source": [
    "**Challenge:** Write a for loop where you print out the actual value and the predicted value for the first 10 images in the valuation dataset. "
   ]
  },
  {
   "cell_type": "code",
   "execution_count": 52,
   "id": "1d67d8db",
   "metadata": {},
   "outputs": [
    {
     "name": "stdout",
     "output_type": "stream",
     "text": [
      "313/313 [==============================] - 0s 1ms/step\n"
     ]
    },
    {
     "data": {
      "text/plain": [
       "(10000, 10)"
      ]
     },
     "execution_count": 52,
     "metadata": {},
     "output_type": "execute_result"
    }
   ],
   "source": [
    "model_2.predict(x_val)\n",
    "model_2.predict(x_val).shape  # 10 probabailities, 1000 images on evaluation dataset"
   ]
  },
  {
   "cell_type": "code",
   "execution_count": 56,
   "id": "aafa104f",
   "metadata": {},
   "outputs": [
    {
     "name": "stdout",
     "output_type": "stream",
     "text": [
      "1/1 [==============================] - 0s 16ms/step\n",
      "Actual value: 6 vs. predicted: 6\n",
      "1/1 [==============================] - 0s 22ms/step\n",
      "Actual value: 9 vs. predicted: 1\n",
      "1/1 [==============================] - 0s 17ms/step\n",
      "Actual value: 9 vs. predicted: 9\n",
      "1/1 [==============================] - 0s 17ms/step\n",
      "Actual value: 4 vs. predicted: 6\n",
      "1/1 [==============================] - 0s 21ms/step\n",
      "Actual value: 1 vs. predicted: 8\n",
      "1/1 [==============================] - 0s 16ms/step\n",
      "Actual value: 1 vs. predicted: 9\n",
      "1/1 [==============================] - 0s 19ms/step\n",
      "Actual value: 2 vs. predicted: 2\n",
      "1/1 [==============================] - 0s 18ms/step\n",
      "Actual value: 7 vs. predicted: 7\n",
      "1/1 [==============================] - 0s 18ms/step\n",
      "Actual value: 8 vs. predicted: 8\n",
      "1/1 [==============================] - 0s 24ms/step\n",
      "Actual value: 3 vs. predicted: 9\n"
     ]
    }
   ],
   "source": [
    "for i in range(10):\n",
    "    test_img = np.expand_dims(x_val[i],axis=0)\n",
    "    predicted_val = np.argmax(model_2.predict(test_img)[0])\n",
    "    print(f'Actual value: {y_val[i][0]} vs. predicted: {predicted_val}')"
   ]
  },
  {
   "cell_type": "code",
   "execution_count": 57,
   "id": "747be3c1",
   "metadata": {},
   "outputs": [],
   "source": [
    "# argmax return the index of the class with the highest probability"
   ]
  },
  {
   "cell_type": "markdown",
   "id": "e6b04fd4",
   "metadata": {},
   "source": [
    "# Evaluation"
   ]
  },
  {
   "cell_type": "code",
   "execution_count": 58,
   "id": "5bb38ac6",
   "metadata": {},
   "outputs": [
    {
     "data": {
      "text/plain": [
       "['loss', 'accuracy']"
      ]
     },
     "execution_count": 58,
     "metadata": {},
     "output_type": "execute_result"
    }
   ],
   "source": [
    "model_2.metrics_names"
   ]
  },
  {
   "cell_type": "code",
   "execution_count": 62,
   "id": "2d64909c",
   "metadata": {},
   "outputs": [
    {
     "name": "stdout",
     "output_type": "stream",
     "text": [
      "313/313 [==============================] - 1s 3ms/step - loss: 1.4327 - accuracy: 0.4901\n",
      "Test loss is 1.43 and test accuracy is 49.0%\n"
     ]
    }
   ],
   "source": [
    "test_loss, test_accuracy = model_2.evaluate(x_test, y_test)\n",
    "print(f'Test loss is {test_loss:0.3} and test accuracy is {test_accuracy:0.1%}')"
   ]
  },
  {
   "cell_type": "code",
   "execution_count": null,
   "id": "5eb743b1",
   "metadata": {},
   "outputs": [],
   "source": [
    "# we have got an accuracy about 49% on our evaluation"
   ]
  },
  {
   "cell_type": "markdown",
   "id": "2de481aa",
   "metadata": {},
   "source": [
    "## Confusion Matrix"
   ]
  },
  {
   "cell_type": "code",
   "execution_count": 67,
   "id": "f745004c",
   "metadata": {},
   "outputs": [],
   "source": [
    "from keras.utils import to_categorical\n",
    "\n",
    "# Convert y_test to categorical labels\n",
    "y_test_cat = to_categorical(y_test)"
   ]
  },
  {
   "cell_type": "code",
   "execution_count": 68,
   "id": "2bcb49fa",
   "metadata": {},
   "outputs": [
    {
     "name": "stdout",
     "output_type": "stream",
     "text": [
      "313/313 [==============================] - 1s 2ms/step\n"
     ]
    }
   ],
   "source": [
    "# Get model predictions\n",
    "predictions = model_2.predict(x_test)\n",
    "\n",
    "# Compute confusion matrix\n",
    "conf_matrix = confusion_matrix(y_true=y_test_cat.argmax(axis=1), y_pred=predictions.argmax(axis=1))"
   ]
  },
  {
   "cell_type": "code",
   "execution_count": 69,
   "id": "b8c32f93",
   "metadata": {},
   "outputs": [
    {
     "data": {
      "text/plain": [
       "(10, 10)"
      ]
     },
     "execution_count": 69,
     "metadata": {},
     "output_type": "execute_result"
    }
   ],
   "source": [
    "conf_matrix.shape"
   ]
  },
  {
   "cell_type": "code",
   "execution_count": 71,
   "id": "f07b5b4a",
   "metadata": {},
   "outputs": [
    {
     "data": {
      "text/plain": [
       "10"
      ]
     },
     "execution_count": 71,
     "metadata": {},
     "output_type": "execute_result"
    }
   ],
   "source": [
    "nr_rows = conf_matrix.shape[0]\n",
    "nr_rows"
   ]
  },
  {
   "cell_type": "code",
   "execution_count": 72,
   "id": "5d4ccd5d",
   "metadata": {},
   "outputs": [
    {
     "data": {
      "text/plain": [
       "10"
      ]
     },
     "execution_count": 72,
     "metadata": {},
     "output_type": "execute_result"
    }
   ],
   "source": [
    "nr_cols = conf_matrix.shape[1]\n",
    "nr_cols"
   ]
  },
  {
   "cell_type": "code",
   "execution_count": 73,
   "id": "8dd45618",
   "metadata": {},
   "outputs": [
    {
     "data": {
      "text/plain": [
       "671"
      ]
     },
     "execution_count": 73,
     "metadata": {},
     "output_type": "execute_result"
    }
   ],
   "source": [
    "conf_matrix.max()"
   ]
  },
  {
   "cell_type": "code",
   "execution_count": 74,
   "id": "94ec69f3",
   "metadata": {},
   "outputs": [
    {
     "data": {
      "text/plain": [
       "7"
      ]
     },
     "execution_count": 74,
     "metadata": {},
     "output_type": "execute_result"
    }
   ],
   "source": [
    "conf_matrix.min()"
   ]
  },
  {
   "cell_type": "code",
   "execution_count": null,
   "id": "84c53f0f",
   "metadata": {},
   "outputs": [],
   "source": [
    "# itertools -> functions for creating iterators, for efficient looping."
   ]
  },
  {
   "cell_type": "markdown",
   "id": "6727eba7",
   "metadata": {},
   "source": [
    "# Visualize Confusion Matrix"
   ]
  },
  {
   "cell_type": "code",
   "execution_count": 85,
   "id": "0d11fb9e",
   "metadata": {},
   "outputs": [
    {
     "data": {
      "image/png": "[encoded data removed]",
      "text/plain": [
       "<Figure size 700x700 with 2 Axes>"
      ]
     },
     "metadata": {},
     "output_type": "display_data"
    }
   ],
   "source": [
    "plt.figure(figsize=[7,7], dpi=95)  # dpi->resolution\n",
    "plt.imshow(conf_matrix,cmap=plt.cm.Greens)\n",
    "\n",
    "plt.title('Confusion Matrix', fontsize=16)\n",
    "plt.ylabel('Actual Labels', fontsize=12)\n",
    "plt.xlabel('Predicted Labels', fontsize=12)\n",
    "\n",
    "tick_marks = np.arange(NR_CLASSES)\n",
    "plt.yticks(tick_marks, LABEL_NAMES)\n",
    "plt.xticks(tick_marks, LABEL_NAMES)\n",
    "\n",
    "\n",
    "plt.colorbar()\n",
    "\n",
    "for i, j in itertools.product(range(nr_rows), range(nr_cols)):\n",
    "    plt.text(j, i, conf_matrix[i, j], horizontalalignment='center',\n",
    "            color='white' if conf_matrix[i, j] > conf_matrix.max()/2 else 'black')\n",
    "\n",
    "\n",
    "\n",
    "\n",
    "plt.show()"
   ]
  },
  {
   "cell_type": "markdown",
   "id": "6b02cafb",
   "metadata": {},
   "source": [
    "**Challenge:** What do the numbers down the diagonal represent? What do the other numbers (excluding the number in the diagonal) in a single row represent? Try to identify the false positives, false negatives, and the true positives in the confusion matrix."
   ]
  },
  {
   "cell_type": "markdown",
   "id": "c875c752",
   "metadata": {},
   "source": [
    "#The value long the diagonal is (True positive)\n",
    "\n",
    "#The value down the **column**, our model predicted a plane but in fact it was a car **(false positive)**\n",
    "#And if we sum all those values, excluding the value in the diagonal, then we get all the false positives\n",
    "#for one particular category.\n",
    "\n",
    "#**false negative**-> in a **row**, all these values represent the false negatives.\n",
    "#Summing up the rows, excluding the diagonal, will give us the false negatives for a particular category."
   ]
  },
  {
   "cell_type": "code",
   "execution_count": 86,
   "id": "5800597a",
   "metadata": {},
   "outputs": [
    {
     "data": {
      "text/plain": [
       "array([577, 571, 330, 222, 490, 363, 638, 519, 671, 520], dtype=int64)"
      ]
     },
     "execution_count": 86,
     "metadata": {},
     "output_type": "execute_result"
    }
   ],
   "source": [
    "# True Positives\n",
    "np.diag(conf_matrix)"
   ]
  },
  {
   "cell_type": "code",
   "execution_count": 87,
   "id": "81c658f9",
   "metadata": {},
   "outputs": [
    {
     "data": {
      "text/plain": [
       "array([0.577, 0.571, 0.33 , 0.222, 0.49 , 0.363, 0.638, 0.519, 0.671,\n",
       "       0.52 ])"
      ]
     },
     "execution_count": 87,
     "metadata": {},
     "output_type": "execute_result"
    }
   ],
   "source": [
    "recall = np.diag(conf_matrix) / np.sum(conf_matrix, axis=1)\n",
    "recall"
   ]
  },
  {
   "cell_type": "code",
   "execution_count": 88,
   "id": "73c2d441",
   "metadata": {},
   "outputs": [
    {
     "data": {
      "text/plain": [
       "array([0.526, 0.606, 0.386, 0.337, 0.392, 0.434, 0.475, 0.592, 0.536,\n",
       "       0.586])"
      ]
     },
     "execution_count": 88,
     "metadata": {},
     "output_type": "execute_result"
    }
   ],
   "source": [
    "precision = np.diag(conf_matrix) / np.sum(conf_matrix, axis=0)\n",
    "precision"
   ]
  },
  {
   "cell_type": "code",
   "execution_count": 89,
   "id": "bec5f145",
   "metadata": {},
   "outputs": [
    {
     "name": "stdout",
     "output_type": "stream",
     "text": [
      "Model 2 recall score is 49.01%\n"
     ]
    }
   ],
   "source": [
    "avg_recall = np.mean(recall)\n",
    "print(f'Model 2 recall score is {avg_recall:.2%}')"
   ]
  },
  {
   "cell_type": "markdown",
   "id": "9aa73081",
   "metadata": {},
   "source": [
    "**Challenge:** Calculate the average precision for the model as a whole. Print this out. Then calculate the f-score for the model as a whole. "
   ]
  },
  {
   "cell_type": "code",
   "execution_count": 90,
   "id": "1abaa8d4",
   "metadata": {},
   "outputs": [
    {
     "name": "stdout",
     "output_type": "stream",
     "text": [
      "Model 2 precision score is 48.69%\n",
      "Model 2 f score is 48.85%\n"
     ]
    }
   ],
   "source": [
    "avg_precision = np.mean(precision)\n",
    "print(f'Model 2 precision score is {avg_precision:.2%}')\n",
    "\n",
    "f1_score = 2 * (avg_precision * avg_recall) / (avg_precision + avg_recall)\n",
    "print(f'Model 2 f score is {f1_score:.2%}')"
   ]
  }
 ],
 "metadata": {
  "kernelspec": {
   "display_name": "Python 3 (ipykernel)",
   "language": "python",
   "name": "python3"
  },
  "language_info": {
   "codemirror_mode": {
    "name": "ipython",
    "version": 3
   },
   "file_extension": ".py",
   "mimetype": "text/x-python",
   "name": "python",
   "nbconvert_exporter": "python",
   "pygments_lexer": "ipython3",
   "version": "3.10.11"
  }
 },
 "nbformat": 4,
 "nbformat_minor": 5
}
